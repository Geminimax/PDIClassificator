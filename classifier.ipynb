{
 "cells": [
  {
   "cell_type": "code",
   "execution_count": 11,
   "metadata": {},
   "outputs": [],
   "source": [
    "import numpy as np\n",
    "import matplotlib.pyplot as plt\n",
    "import skimage\n",
    "import os\n",
    "import random\n",
    "from sklearn import svm\n",
    "from skimage import io, color, feature, data\n",
    "\n",
    "\n",
    "def show(img):\n",
    "    fig, ax = plt.subplots(1, 1, figsize=(5, 5))\n",
    "    ax.imshow(img, cmap=plt.cm.gray)\n",
    "    ax.set_axis_off()\n",
    "    plt.show()\n"
   ]
  },
  {
   "cell_type": "code",
   "execution_count": 3,
   "metadata": {},
   "outputs": [
    {
     "name": "stdout",
     "output_type": "stream",
     "text": [
      "['agata_potato', 'agata_potato', 'agata_potato', 'agata_potato', 'agata_potato', 'agata_potato', 'agata_potato', 'agata_potato', 'agata_potato', 'agata_potato', 'asterix_potato', 'asterix_potato', 'asterix_potato', 'asterix_potato', 'asterix_potato', 'asterix_potato', 'asterix_potato', 'asterix_potato', 'asterix_potato', 'asterix_potato', 'cashew', 'cashew', 'cashew', 'cashew', 'cashew', 'cashew', 'cashew', 'cashew', 'cashew', 'cashew', 'diamond_peach', 'diamond_peach', 'diamond_peach', 'diamond_peach', 'diamond_peach', 'diamond_peach', 'diamond_peach', 'diamond_peach', 'diamond_peach', 'diamond_peach', 'fuji_apple', 'fuji_apple', 'fuji_apple', 'fuji_apple', 'fuji_apple', 'fuji_apple', 'fuji_apple', 'fuji_apple', 'fuji_apple', 'fuji_apple', 'granny_smith_apple', 'granny_smith_apple', 'granny_smith_apple', 'granny_smith_apple', 'granny_smith_apple', 'granny_smith_apple', 'granny_smith_apple', 'granny_smith_apple', 'granny_smith_apple', 'granny_smith_apple', 'honneydew_melon', 'honneydew_melon', 'honneydew_melon', 'honneydew_melon', 'honneydew_melon', 'honneydew_melon', 'honneydew_melon', 'honneydew_melon', 'honneydew_melon', 'honneydew_melon', 'kiwi', 'kiwi', 'kiwi', 'kiwi', 'kiwi', 'kiwi', 'kiwi', 'kiwi', 'kiwi', 'kiwi', 'nectarine', 'nectarine', 'nectarine', 'nectarine', 'nectarine', 'nectarine', 'nectarine', 'nectarine', 'nectarine', 'nectarine', 'onion', 'onion', 'onion', 'onion', 'onion', 'onion', 'onion', 'onion', 'onion', 'onion', 'orange', 'orange', 'orange', 'orange', 'orange', 'orange', 'orange', 'orange', 'orange', 'orange', 'plum', 'plum', 'plum', 'plum', 'plum', 'plum', 'plum', 'plum', 'plum', 'plum', 'spanish_pear', 'spanish_pear', 'spanish_pear', 'spanish_pear', 'spanish_pear', 'spanish_pear', 'spanish_pear', 'spanish_pear', 'spanish_pear', 'spanish_pear', 'taiti_lime', 'taiti_lime', 'taiti_lime', 'taiti_lime', 'taiti_lime', 'taiti_lime', 'taiti_lime', 'taiti_lime', 'taiti_lime', 'taiti_lime', 'watermelon', 'watermelon', 'watermelon', 'watermelon', 'watermelon', 'watermelon', 'watermelon', 'watermelon', 'watermelon', 'watermelon']\n"
     ]
    }
   ],
   "source": [
    "image_dir_path = \"frutas_dataset_train\"\n",
    "image_list = []\n",
    "labels = []\n",
    "image_limit_per_folder = 10\n",
    "\n",
    "##Reads each image in subdirectories and stores it in image_list\n",
    "##The directory names are used as labels for classification\n",
    "current_image_count = 0\n",
    "for image_dir in os.listdir(image_dir_path):\n",
    "    full_path = os.path.join(image_dir_path,image_dir)\n",
    "    \n",
    "    if os.path.isdir(full_path):\n",
    "        for image_file in os.listdir(full_path):\n",
    "            image = io.imread(os.path.join(full_path,image_file))\n",
    "            image_list.append(image)\n",
    "            labels.append(image_dir)\n",
    "            current_image_count += 1\n",
    "            if(current_image_count >= image_limit_per_folder):\n",
    "                current_image_count = 0\n",
    "                break\n",
    "\n",
    "print(labels)\n",
    "#Takes about a billion years to be done\n",
    "\n",
    "#for image in images:\n",
    "#    show(image)"
   ]
  },
  {
   "cell_type": "code",
   "execution_count": 4,
   "metadata": {
    "scrolled": true
   },
   "outputs": [
    {
     "name": "stderr",
     "output_type": "stream",
     "text": [
      "C:\\Users\\Pichau\\Anaconda3\\lib\\site-packages\\ipykernel_launcher.py:6: MatplotlibDeprecationWarning: \n",
      "The 'normed' kwarg was deprecated in Matplotlib 2.1 and will be removed in 3.1. Use 'density' instead.\n",
      "  \n"
     ]
    },
    {
     "data": {
      "image/png": "[encoded data removed]",
      "text/plain": [
       "<Figure size 432x288 with 1 Axes>"
      ]
     },
     "metadata": {
      "needs_background": "light"
     },
     "output_type": "display_data"
    }
   ],
   "source": [
    "def extract_lbp(image,radius,n_points):\n",
    "    ##Function for lbp feature extraction\n",
    "    gray_image = color.rgb2gray(image)\n",
    "    lbp = feature.local_binary_pattern(gray_image, n_points, radius)\n",
    "    hist = plt.hist(lbp.ravel(),bins=np.arange(0, n_points),\n",
    "                        range=(0, n_points),normed = True)[0]\n",
    "    return hist\n",
    "\n",
    "radius = 3\n",
    "n_points = radius * 8\n",
    "\n",
    "datasets = []\n",
    "for image in image_list:\n",
    "    datasets.append(extract_lbp(image,radius,n_points))"
   ]
  },
  {
   "cell_type": "code",
   "execution_count": 53,
   "metadata": {},
   "outputs": [
    {
     "name": "stderr",
     "output_type": "stream",
     "text": [
      "C:\\Users\\Pichau\\Anaconda3\\lib\\site-packages\\sklearn\\svm\\base.py:929: ConvergenceWarning: Liblinear failed to converge, increase the number of iterations.\n",
      "  \"the number of iterations.\", ConvergenceWarning)\n"
     ]
    },
    {
     "data": {
      "text/plain": [
       "LinearSVC(C=100, class_weight=None, dual=True, fit_intercept=True,\n",
       "          intercept_scaling=1, loss='squared_hinge', max_iter=1000,\n",
       "          multi_class='ovr', penalty='l2', random_state=None, tol=0.0001,\n",
       "          verbose=0)"
      ]
     },
     "execution_count": 53,
     "metadata": {},
     "output_type": "execute_result"
    }
   ],
   "source": [
    "##SVM model generation\n",
    "model = svm.LinearSVC(C=100)\n",
    "model.fit(datasets,labels)"
   ]
  },
  {
   "cell_type": "code",
   "execution_count": 61,
   "metadata": {},
   "outputs": [
    {
     "name": "stdout",
     "output_type": "stream",
     "text": [
      "Prediction: agata_potato  Expected: agata_potato\n",
      "Prediction: agata_potato  Expected: agata_potato\n",
      "Prediction: agata_potato  Expected: agata_potato\n",
      "Prediction: agata_potato  Expected: agata_potato\n",
      "Prediction: agata_potato  Expected: agata_potato\n",
      "Prediction: agata_potato  Expected: agata_potato\n",
      "Prediction: agata_potato  Expected: agata_potato\n",
      "Prediction: agata_potato  Expected: agata_potato\n",
      "Prediction: agata_potato  Expected: agata_potato\n",
      "Prediction: agata_potato  Expected: agata_potato\n",
      "Prediction: granny_smith_apple  Expected: asterix_potato\n",
      "Prediction: onion  Expected: asterix_potato\n",
      "Prediction: onion  Expected: asterix_potato\n",
      "Prediction: onion  Expected: asterix_potato\n",
      "Prediction: onion  Expected: asterix_potato\n",
      "Prediction: onion  Expected: asterix_potato\n",
      "Prediction: onion  Expected: asterix_potato\n",
      "Prediction: onion  Expected: asterix_potato\n",
      "Prediction: onion  Expected: asterix_potato\n",
      "Prediction: onion  Expected: asterix_potato\n",
      "Prediction: kiwi  Expected: cashew\n",
      "Prediction: kiwi  Expected: cashew\n",
      "Prediction: kiwi  Expected: cashew\n",
      "Prediction: kiwi  Expected: cashew\n",
      "Prediction: kiwi  Expected: cashew\n",
      "Prediction: kiwi  Expected: cashew\n",
      "Prediction: cashew  Expected: cashew\n",
      "Prediction: kiwi  Expected: cashew\n",
      "Prediction: kiwi  Expected: cashew\n",
      "Prediction: kiwi  Expected: cashew\n",
      "Prediction: diamond_peach  Expected: diamond_peach\n",
      "Prediction: honneydew_melon  Expected: diamond_peach\n",
      "Prediction: diamond_peach  Expected: diamond_peach\n",
      "Prediction: diamond_peach  Expected: diamond_peach\n",
      "Prediction: diamond_peach  Expected: diamond_peach\n",
      "Prediction: diamond_peach  Expected: diamond_peach\n",
      "Prediction: diamond_peach  Expected: diamond_peach\n",
      "Prediction: diamond_peach  Expected: diamond_peach\n",
      "Prediction: diamond_peach  Expected: diamond_peach\n",
      "Prediction: diamond_peach  Expected: diamond_peach\n",
      "Prediction: diamond_peach  Expected: fuji_apple\n",
      "Prediction: fuji_apple  Expected: fuji_apple\n",
      "Prediction: fuji_apple  Expected: fuji_apple\n",
      "Prediction: fuji_apple  Expected: fuji_apple\n",
      "Prediction: fuji_apple  Expected: fuji_apple\n",
      "Prediction: fuji_apple  Expected: fuji_apple\n",
      "Prediction: fuji_apple  Expected: fuji_apple\n",
      "Prediction: fuji_apple  Expected: fuji_apple\n",
      "Prediction: fuji_apple  Expected: fuji_apple\n",
      "Prediction: fuji_apple  Expected: fuji_apple\n",
      "Prediction: granny_smith_apple  Expected: granny_smith_apple\n",
      "Prediction: granny_smith_apple  Expected: granny_smith_apple\n",
      "Prediction: granny_smith_apple  Expected: granny_smith_apple\n",
      "Prediction: granny_smith_apple  Expected: granny_smith_apple\n",
      "Prediction: granny_smith_apple  Expected: granny_smith_apple\n",
      "Prediction: granny_smith_apple  Expected: granny_smith_apple\n",
      "Prediction: onion  Expected: granny_smith_apple\n",
      "Prediction: granny_smith_apple  Expected: granny_smith_apple\n",
      "Prediction: granny_smith_apple  Expected: granny_smith_apple\n",
      "Prediction: granny_smith_apple  Expected: granny_smith_apple\n",
      "Prediction: diamond_peach  Expected: honneydew_melon\n",
      "Prediction: honneydew_melon  Expected: honneydew_melon\n",
      "Prediction: spanish_pear  Expected: honneydew_melon\n",
      "Prediction: honneydew_melon  Expected: honneydew_melon\n",
      "Prediction: honneydew_melon  Expected: honneydew_melon\n",
      "Prediction: honneydew_melon  Expected: honneydew_melon\n",
      "Prediction: honneydew_melon  Expected: honneydew_melon\n",
      "Prediction: honneydew_melon  Expected: honneydew_melon\n",
      "Prediction: diamond_peach  Expected: honneydew_melon\n",
      "Prediction: diamond_peach  Expected: honneydew_melon\n",
      "Prediction: kiwi  Expected: kiwi\n",
      "Prediction: kiwi  Expected: kiwi\n",
      "Prediction: kiwi  Expected: kiwi\n",
      "Prediction: kiwi  Expected: kiwi\n",
      "Prediction: kiwi  Expected: kiwi\n",
      "Prediction: kiwi  Expected: kiwi\n",
      "Prediction: kiwi  Expected: kiwi\n",
      "Prediction: kiwi  Expected: kiwi\n",
      "Prediction: kiwi  Expected: kiwi\n",
      "Prediction: kiwi  Expected: kiwi\n",
      "Prediction: nectarine  Expected: nectarine\n",
      "Prediction: watermelon  Expected: nectarine\n",
      "Prediction: watermelon  Expected: nectarine\n",
      "Prediction: nectarine  Expected: nectarine\n",
      "Prediction: kiwi  Expected: nectarine\n",
      "Prediction: kiwi  Expected: nectarine\n",
      "Prediction: kiwi  Expected: nectarine\n",
      "Prediction: nectarine  Expected: nectarine\n",
      "Prediction: nectarine  Expected: nectarine\n",
      "Prediction: kiwi  Expected: nectarine\n",
      "Prediction: onion  Expected: onion\n",
      "Prediction: onion  Expected: onion\n",
      "Prediction: onion  Expected: onion\n",
      "Prediction: onion  Expected: onion\n",
      "Prediction: onion  Expected: onion\n",
      "Prediction: onion  Expected: onion\n",
      "Prediction: granny_smith_apple  Expected: onion\n",
      "Prediction: onion  Expected: onion\n",
      "Prediction: onion  Expected: onion\n",
      "Prediction: onion  Expected: onion\n",
      "Prediction: orange  Expected: orange\n",
      "Prediction: orange  Expected: orange\n",
      "Prediction: orange  Expected: orange\n",
      "Prediction: orange  Expected: orange\n",
      "Prediction: orange  Expected: orange\n",
      "Prediction: orange  Expected: orange\n",
      "Prediction: orange  Expected: orange\n",
      "Prediction: orange  Expected: orange\n",
      "Prediction: orange  Expected: orange\n",
      "Prediction: orange  Expected: orange\n",
      "Prediction: spanish_pear  Expected: plum\n",
      "Prediction: spanish_pear  Expected: plum\n",
      "Prediction: plum  Expected: plum\n",
      "Prediction: diamond_peach  Expected: plum\n",
      "Prediction: honneydew_melon  Expected: plum\n",
      "Prediction: spanish_pear  Expected: plum\n",
      "Prediction: plum  Expected: plum\n",
      "Prediction: plum  Expected: plum\n",
      "Prediction: plum  Expected: plum\n",
      "Prediction: plum  Expected: plum\n",
      "Prediction: plum  Expected: spanish_pear\n",
      "Prediction: spanish_pear  Expected: spanish_pear\n",
      "Prediction: spanish_pear  Expected: spanish_pear\n",
      "Prediction: spanish_pear  Expected: spanish_pear\n",
      "Prediction: spanish_pear  Expected: spanish_pear\n",
      "Prediction: spanish_pear  Expected: spanish_pear\n",
      "Prediction: spanish_pear  Expected: spanish_pear\n",
      "Prediction: spanish_pear  Expected: spanish_pear\n",
      "Prediction: spanish_pear  Expected: spanish_pear\n",
      "Prediction: spanish_pear  Expected: spanish_pear\n",
      "Prediction: taiti_lime  Expected: taiti_lime\n",
      "Prediction: taiti_lime  Expected: taiti_lime\n",
      "Prediction: taiti_lime  Expected: taiti_lime\n",
      "Prediction: taiti_lime  Expected: taiti_lime\n",
      "Prediction: orange  Expected: taiti_lime\n",
      "Prediction: taiti_lime  Expected: taiti_lime\n",
      "Prediction: taiti_lime  Expected: taiti_lime\n",
      "Prediction: taiti_lime  Expected: taiti_lime\n",
      "Prediction: taiti_lime  Expected: taiti_lime\n",
      "Prediction: taiti_lime  Expected: taiti_lime\n",
      "Prediction: watermelon  Expected: watermelon\n",
      "Prediction: watermelon  Expected: watermelon\n",
      "Prediction: spanish_pear  Expected: watermelon\n",
      "Prediction: watermelon  Expected: watermelon\n",
      "Prediction: watermelon  Expected: watermelon\n",
      "Prediction: watermelon  Expected: watermelon\n",
      "Prediction: watermelon  Expected: watermelon\n",
      "Prediction: watermelon  Expected: watermelon\n",
      "Prediction: diamond_peach  Expected: watermelon\n",
      "Prediction: watermelon  Expected: watermelon\n",
      "108/150\n"
     ]
    }
   ],
   "source": [
    "##Test\n",
    "test_image_count = 20\n",
    "test_images = []\n",
    "expected = []\n",
    "\n",
    "predict = model.predict(datasets)\n",
    "\n",
    "correct = 0\n",
    "for i in range(len(predict)):\n",
    "    print(\"Prediction: \" + predict[i] + \"  Expected: \" + labels[i])\n",
    "    if(predict[i] == labels[i]):\n",
    "        correct += 1\n",
    "        \n",
    "print(str(correct) + \"/\" + str(len(predict)))\n"
   ]
  },
  {
   "cell_type": "code",
   "execution_count": null,
   "metadata": {},
   "outputs": [],
   "source": []
  },
  {
   "cell_type": "code",
   "execution_count": null,
   "metadata": {},
   "outputs": [],
   "source": []
  }
 ],
 "metadata": {
  "kernelspec": {
   "display_name": "Python 3",
   "language": "python",
   "name": "python3"
  },
  "language_info": {
   "codemirror_mode": {
    "name": "ipython",
    "version": 3
   },
   "file_extension": ".py",
   "mimetype": "text/x-python",
   "name": "python",
   "nbconvert_exporter": "python",
   "pygments_lexer": "ipython3",
   "version": "3.7.3"
  }
 },
 "nbformat": 4,
 "nbformat_minor": 2
}
